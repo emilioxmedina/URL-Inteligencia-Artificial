{
 "cells": [
  {
   "cell_type": "markdown",
   "metadata": {
    "id": "MQ5oZIXn8eYn"
   },
   "source": [
    "## Detección de cámcer de mama utilizando CNN"
   ]
  },
  {
   "cell_type": "code",
   "execution_count": 1,
   "metadata": {
    "executionInfo": {
     "elapsed": 8905,
     "status": "ok",
     "timestamp": 1743605465712,
     "user": {
      "displayName": "Jesús Quemé",
      "userId": "05946946032980748684"
     },
     "user_tz": 360
    },
    "id": "_KV8yM-l7y_e"
   },
   "outputs": [
    {
     "ename": "ModuleNotFoundError",
     "evalue": "No module named 'tensorflow'",
     "output_type": "error",
     "traceback": [
      "\u001b[1;31m---------------------------------------------------------------------------\u001b[0m",
      "\u001b[1;31mModuleNotFoundError\u001b[0m                       Traceback (most recent call last)",
      "Cell \u001b[1;32mIn[1], line 1\u001b[0m\n\u001b[1;32m----> 1\u001b[0m \u001b[38;5;28;01mimport\u001b[39;00m\u001b[38;5;250m \u001b[39m\u001b[38;5;21;01mtensorflow\u001b[39;00m\u001b[38;5;250m \u001b[39m\u001b[38;5;28;01mas\u001b[39;00m\u001b[38;5;250m \u001b[39m\u001b[38;5;21;01mtf\u001b[39;00m\n\u001b[0;32m      2\u001b[0m \u001b[38;5;28;01mfrom\u001b[39;00m\u001b[38;5;250m \u001b[39m\u001b[38;5;21;01mtensorflow\u001b[39;00m\u001b[38;5;21;01m.\u001b[39;00m\u001b[38;5;21;01mkeras\u001b[39;00m\u001b[38;5;250m \u001b[39m\u001b[38;5;28;01mimport\u001b[39;00m Sequential\n\u001b[0;32m      3\u001b[0m \u001b[38;5;28;01mfrom\u001b[39;00m\u001b[38;5;250m \u001b[39m\u001b[38;5;21;01mtensorflow\u001b[39;00m\u001b[38;5;21;01m.\u001b[39;00m\u001b[38;5;21;01mkeras\u001b[39;00m\u001b[38;5;21;01m.\u001b[39;00m\u001b[38;5;21;01mlayers\u001b[39;00m\u001b[38;5;250m \u001b[39m\u001b[38;5;28;01mimport\u001b[39;00m Conv1D, MaxPool1D, Flatten, Dense, Dropout, BatchNormalization\n",
      "\u001b[1;31mModuleNotFoundError\u001b[0m: No module named 'tensorflow'"
     ]
    }
   ],
   "source": [
    "import tensorflow as tf\n",
    "from tensorflow.keras import Sequential\n",
    "from tensorflow.keras.layers import Conv1D, MaxPool1D, Flatten, Dense, Dropout, BatchNormalization\n",
    "from tensorflow.keras.optimizers import Adam"
   ]
  },
  {
   "cell_type": "code",
   "execution_count": null,
   "metadata": {
    "executionInfo": {
     "elapsed": 486,
     "status": "ok",
     "timestamp": 1743606291035,
     "user": {
      "displayName": "Jesús Quemé",
      "userId": "05946946032980748684"
     },
     "user_tz": 360
    },
    "id": "QeZ9xy0G-5ME"
   },
   "outputs": [],
   "source": [
    "import numpy as np\n",
    "import pandas as pd\n",
    "import matplotlib.pyplot as plt\n",
    "import seaborn as sns"
   ]
  },
  {
   "cell_type": "code",
   "execution_count": null,
   "metadata": {
    "executionInfo": {
     "elapsed": 5,
     "status": "ok",
     "timestamp": 1743606547756,
     "user": {
      "displayName": "Jesús Quemé",
      "userId": "05946946032980748684"
     },
     "user_tz": 360
    },
    "id": "RXwag8d2_Udu"
   },
   "outputs": [],
   "source": [
    "from sklearn import datasets, metrics\n",
    "from sklearn.model_selection import train_test_split\n",
    "from sklearn.preprocessing import StandardScaler"
   ]
  },
  {
   "cell_type": "markdown",
   "metadata": {
    "id": "UAGYAYIO_M9T"
   },
   "source": [
    "## Carga del conjunto de datos sobre el cáncer de mama incluido en Sklearn"
   ]
  },
  {
   "cell_type": "code",
   "execution_count": null,
   "metadata": {
    "executionInfo": {
     "elapsed": 20,
     "status": "ok",
     "timestamp": 1743606590235,
     "user": {
      "displayName": "Jesús Quemé",
      "userId": "05946946032980748684"
     },
     "user_tz": 360
    },
    "id": "SFANYtmY_dj7"
   },
   "outputs": [],
   "source": [
    "cancerData= datasets.load_breast_cancer()"
   ]
  },
  {
   "cell_type": "code",
   "execution_count": null,
   "metadata": {
    "colab": {
     "base_uri": "https://localhost:8080/",
     "height": 478
    },
    "executionInfo": {
     "elapsed": 322,
     "status": "ok",
     "timestamp": 1743606745912,
     "user": {
      "displayName": "Jesús Quemé",
      "userId": "05946946032980748684"
     },
     "user_tz": 360
    },
    "id": "zIjlbc_9_dO6",
    "outputId": "92a41035-79d8-40d7-d720-d811eb0254da"
   },
   "outputs": [],
   "source": [
    "X = pd.DataFrame(data= cancerData.data, columns= cancerData.feature_names)\n",
    "X"
   ]
  },
  {
   "cell_type": "code",
   "execution_count": null,
   "metadata": {
    "colab": {
     "base_uri": "https://localhost:8080/"
    },
    "executionInfo": {
     "elapsed": 15,
     "status": "ok",
     "timestamp": 1743606884541,
     "user": {
      "displayName": "Jesús Quemé",
      "userId": "05946946032980748684"
     },
     "user_tz": 360
    },
    "id": "094cM1Af_cGs",
    "outputId": "7cace5b0-a27b-428d-aa94-2ee2ebca88e9"
   },
   "outputs": [],
   "source": [
    "Y = cancerData.target\n",
    "Y"
   ]
  },
  {
   "cell_type": "code",
   "execution_count": null,
   "metadata": {
    "colab": {
     "base_uri": "https://localhost:8080/",
     "height": 1000
    },
    "executionInfo": {
     "elapsed": 127,
     "status": "ok",
     "timestamp": 1743607099685,
     "user": {
      "displayName": "Jesús Quemé",
      "userId": "05946946032980748684"
     },
     "user_tz": 360
    },
    "id": "y-qNPkrZFGsc",
    "outputId": "e8617f70-e925-4073-fc6d-051e64a1a3cc"
   },
   "outputs": [],
   "source": [
    "temp = X.copy()\n",
    "temp['target'] = Y\n",
    "temp.describe().T"
   ]
  },
  {
   "cell_type": "markdown",
   "metadata": {
    "id": "u7LXVmGyFcr0"
   },
   "source": [
    "## Analisis exploratorio"
   ]
  },
  {
   "cell_type": "code",
   "execution_count": null,
   "metadata": {
    "colab": {
     "base_uri": "https://localhost:8080/",
     "height": 1000
    },
    "executionInfo": {
     "elapsed": 196,
     "status": "ok",
     "timestamp": 1743607194198,
     "user": {
      "displayName": "Jesús Quemé",
      "userId": "05946946032980748684"
     },
     "user_tz": 360
    },
    "id": "I66Y3Jh5FgsC",
    "outputId": "8ce4e0d5-0ce3-4ffd-df59-2ee32ed9a27b"
   },
   "outputs": [],
   "source": [
    "corrmat = temp.corr()\n",
    "corrmat"
   ]
  },
  {
   "cell_type": "code",
   "execution_count": null,
   "metadata": {
    "colab": {
     "base_uri": "https://localhost:8080/",
     "height": 565
    },
    "executionInfo": {
     "elapsed": 1079,
     "status": "ok",
     "timestamp": 1743607268634,
     "user": {
      "displayName": "Jesús Quemé",
      "userId": "05946946032980748684"
     },
     "user_tz": 360
    },
    "id": "f8KjrWzSFnLS",
    "outputId": "1e11b0c0-b255-495c-a30e-89a82910bedc"
   },
   "outputs": [],
   "source": [
    "sns.heatmap(corrmat, annot=False, fmt= 'f')"
   ]
  },
  {
   "cell_type": "code",
   "execution_count": null,
   "metadata": {
    "colab": {
     "base_uri": "https://localhost:8080/",
     "height": 758
    },
    "executionInfo": {
     "elapsed": 2153,
     "status": "ok",
     "timestamp": 1743607764456,
     "user": {
      "displayName": "Jesús Quemé",
      "userId": "05946946032980748684"
     },
     "user_tz": 360
    },
    "id": "Qtb60euoGXR4",
    "outputId": "49e587dd-ee22-4cb7-d345-51bb27ef5f48"
   },
   "outputs": [],
   "source": [
    "sns.pairplot(temp[['mean radius','mean perimeter', 'mean area']]);"
   ]
  },
  {
   "cell_type": "markdown",
   "metadata": {
    "id": "Uk9CAqf1_eGq"
   },
   "source": [
    "## Separación de conjuntos de datos para entrenamiento y pruebas"
   ]
  },
  {
   "cell_type": "code",
   "execution_count": null,
   "metadata": {
    "executionInfo": {
     "elapsed": 14,
     "status": "ok",
     "timestamp": 1743607907908,
     "user": {
      "displayName": "Jesús Quemé",
      "userId": "05946946032980748684"
     },
     "user_tz": 360
    },
    "id": "DF-Lwkgd_k2r"
   },
   "outputs": [],
   "source": [
    "X_train, X_test, Y_train, Y_test = train_test_split(X, Y, test_size= 0.1, stratify=Y)"
   ]
  },
  {
   "cell_type": "code",
   "execution_count": null,
   "metadata": {
    "colab": {
     "base_uri": "https://localhost:8080/"
    },
    "executionInfo": {
     "elapsed": 25,
     "status": "ok",
     "timestamp": 1743607976033,
     "user": {
      "displayName": "Jesús Quemé",
      "userId": "05946946032980748684"
     },
     "user_tz": 360
    },
    "id": "IMUIpT5I_i_V",
    "outputId": "ec9163f6-6023-455d-bcbd-ca6e57baddae"
   },
   "outputs": [],
   "source": [
    "print(X_train.shape)\n",
    "print(X_test.shape)"
   ]
  },
  {
   "cell_type": "markdown",
   "metadata": {
    "id": "WFcKvPLV_lRS"
   },
   "source": [
    "## Escalado de variables"
   ]
  },
  {
   "cell_type": "code",
   "execution_count": null,
   "metadata": {
    "executionInfo": {
     "elapsed": 43,
     "status": "ok",
     "timestamp": 1743608093006,
     "user": {
      "displayName": "Jesús Quemé",
      "userId": "05946946032980748684"
     },
     "user_tz": 360
    },
    "id": "jvvL2NQP_oRU"
   },
   "outputs": [],
   "source": [
    "scaler = StandardScaler()"
   ]
  },
  {
   "cell_type": "code",
   "execution_count": null,
   "metadata": {
    "colab": {
     "base_uri": "https://localhost:8080/"
    },
    "executionInfo": {
     "elapsed": 14,
     "status": "ok",
     "timestamp": 1743608185828,
     "user": {
      "displayName": "Jesús Quemé",
      "userId": "05946946032980748684"
     },
     "user_tz": 360
    },
    "id": "niy5oza7_ncn",
    "outputId": "fdad2771-a62f-4192-c592-b5392526fc8d"
   },
   "outputs": [],
   "source": [
    "X_train = scaler.fit_transform(X_train)\n",
    "X_test = scaler.fit_transform(X_test)\n",
    "X_train"
   ]
  },
  {
   "cell_type": "code",
   "execution_count": null,
   "metadata": {
    "executionInfo": {
     "elapsed": 8,
     "status": "ok",
     "timestamp": 1743608321472,
     "user": {
      "displayName": "Jesús Quemé",
      "userId": "05946946032980748684"
     },
     "user_tz": 360
    },
    "id": "5sww3cVnJpOR"
   },
   "outputs": [],
   "source": [
    "X_train = X_train.reshape(512,30,1)\n",
    "X_test = X_test.reshape(57,30,1)"
   ]
  },
  {
   "cell_type": "markdown",
   "metadata": {
    "id": "LyDnYB_K_vwp"
   },
   "source": [
    "## Preparación del modelo"
   ]
  },
  {
   "cell_type": "code",
   "execution_count": null,
   "metadata": {
    "executionInfo": {
     "elapsed": 54,
     "status": "ok",
     "timestamp": 1743608366506,
     "user": {
      "displayName": "Jesús Quemé",
      "userId": "05946946032980748684"
     },
     "user_tz": 360
    },
    "id": "uVDPS4cq_zK7"
   },
   "outputs": [],
   "source": [
    "model = Sequential()"
   ]
  },
  {
   "cell_type": "code",
   "execution_count": null,
   "metadata": {
    "colab": {
     "base_uri": "https://localhost:8080/"
    },
    "executionInfo": {
     "elapsed": 510,
     "status": "ok",
     "timestamp": 1743608731909,
     "user": {
      "displayName": "Jesús Quemé",
      "userId": "05946946032980748684"
     },
     "user_tz": 360
    },
    "id": "nXRWYuoa_4UR",
    "outputId": "7c5b1d0d-38c9-44a8-c8a3-a1676cce2e05"
   },
   "outputs": [],
   "source": [
    "model.add(Conv1D(filters=16, kernel_size=2, activation='relu', input_shape=(30,1)))\n",
    "model.add(BatchNormalization())\n",
    "model.add(Dropout(0.2))\n",
    "\n",
    "\n",
    "model.add(Conv1D(32,2, activation='relu'))\n",
    "model.add(BatchNormalization())\n",
    "model.add(Dropout(0.2))\n",
    "\n",
    "model.add(Flatten())\n",
    "model.add(Dense(32, activation='relu'))\n",
    "model.add(Dropout(0.2))\n",
    "\n",
    "model.add(Dense(1, activation='sigmoid'))"
   ]
  },
  {
   "cell_type": "code",
   "execution_count": null,
   "metadata": {
    "colab": {
     "base_uri": "https://localhost:8080/",
     "height": 481
    },
    "executionInfo": {
     "elapsed": 59,
     "status": "ok",
     "timestamp": 1743608802323,
     "user": {
      "displayName": "Jesús Quemé",
      "userId": "05946946032980748684"
     },
     "user_tz": 360
    },
    "id": "VlZHkCci_4Dq",
    "outputId": "f2ff54f9-c165-461a-8ce5-99ba6b659966"
   },
   "outputs": [],
   "source": [
    "model.summary()"
   ]
  },
  {
   "cell_type": "code",
   "execution_count": null,
   "metadata": {
    "executionInfo": {
     "elapsed": 6,
     "status": "ok",
     "timestamp": 1743608927062,
     "user": {
      "displayName": "Jesús Quemé",
      "userId": "05946946032980748684"
     },
     "user_tz": 360
    },
    "id": "P3lhYYm1_36h"
   },
   "outputs": [],
   "source": [
    "model.compile(optimizer=Adam(learning_rate=0.00001), loss='binary_crossentropy', metrics=['accuracy'])"
   ]
  },
  {
   "cell_type": "code",
   "execution_count": null,
   "metadata": {
    "colab": {
     "base_uri": "https://localhost:8080/"
    },
    "executionInfo": {
     "elapsed": 10138,
     "status": "ok",
     "timestamp": 1743609037644,
     "user": {
      "displayName": "Jesús Quemé",
      "userId": "05946946032980748684"
     },
     "user_tz": 360
    },
    "id": "13Ho6gEbMNpp",
    "outputId": "8a1c2026-0e2f-4bc4-f242-a56b272463a2"
   },
   "outputs": [],
   "source": [
    "history = model.fit(X_train, Y_train, epochs=35, verbose = 1, validation_data=(X_test, Y_test))"
   ]
  },
  {
   "cell_type": "markdown",
   "metadata": {
    "id": "7J295zx5_41Z"
   },
   "source": [
    "## Gráficas de precisión y pérdida"
   ]
  },
  {
   "cell_type": "code",
   "execution_count": null,
   "metadata": {
    "id": "ICPkqQCX_8JL"
   },
   "outputs": [],
   "source": [
    "from sklearn.neural_network import MLPClassifier\n",
    "\n",
    "# Crear un perceptron multicapa con 1 capa oculta de 5 neuronas\n",
    "mlp = MLPClassifier(hidden_layer_sizes=(5,2,), activation='logistic', max_iter=1000, random_state=26)\n",
    "\n",
    "# Entrenar el modelo\n",
    "mlp.fit(X_train, y_train)\n",
    "\n",
    "# Verificar la cantidad de capas\n",
    "print(f\"Numero de capas en la red: {len(mlp.coefs_)} (Incluye capa oculta y salida)\")\n",
    "print(f\"Neuronas en la capa oculta: {mlp.hidden_layer_sizes[0]}\")"
   ]
  },
  {
   "cell_type": "code",
   "execution_count": null,
   "metadata": {
    "id": "M4Wg-05DABHR"
   },
   "outputs": [],
   "source": [
    "# Obtener pesos y bias\n",
    "w = mlp.coefs_\n",
    "b = mlp.intercepts_\n",
    "print(w)\n",
    "print(b)"
   ]
  },
  {
   "cell_type": "code",
   "execution_count": null,
   "metadata": {},
   "outputs": [],
   "source": [
    "# Realizar predicciones\n",
    "y_pred2 = mlp.predict(X_test)\n",
    "\n",
    "eficiencia2 = accuracy_score(y_test, y_pred2)\n",
    "print(f'Precision del perceptron multicapa: {eficiencia2:.2f}')\n",
    "print('\\nReporte de clasificacion:')\n",
    "print(classification_report(y_test, y_pred2))"
   ]
  },
  {
   "cell_type": "code",
   "execution_count": 5,
   "metadata": {},
   "outputs": [
    {
     "name": "stdout",
     "output_type": "stream",
     "text": [
      "Defaulting to user installation because normal site-packages is not writeable\n"
     ]
    },
    {
     "name": "stderr",
     "output_type": "stream",
     "text": [
      "ERROR: Could not find a version that satisfies the requirement tensorflow (from versions: none)\n",
      "ERROR: No matching distribution found for tensorflow\n"
     ]
    }
   ],
   "source": [
    "!pip install tensorflow"
   ]
  }
 ],
 "metadata": {
  "colab": {
   "authorship_tag": "ABX9TyPpKXrxetBGRISXzkw79NHh",
   "provenance": []
  },
  "kernelspec": {
   "display_name": "Python 3 (ipykernel)",
   "language": "python",
   "name": "python3"
  },
  "language_info": {
   "codemirror_mode": {
    "name": "ipython",
    "version": 3
   },
   "file_extension": ".py",
   "mimetype": "text/x-python",
   "name": "python",
   "nbconvert_exporter": "python",
   "pygments_lexer": "ipython3",
   "version": "3.13.2"
  }
 },
 "nbformat": 4,
 "nbformat_minor": 4
}
