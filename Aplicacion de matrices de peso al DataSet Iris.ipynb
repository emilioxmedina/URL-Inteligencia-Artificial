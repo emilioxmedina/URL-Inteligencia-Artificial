{
 "cells": [
  {
   "cell_type": "markdown",
   "id": "782fbc8f-174e-4858-96fb-e9963c842dbe",
   "metadata": {},
   "source": [
    "# Aplicacion de Matrices de Peso al DataSet Iris"
   ]
  },
  {
   "cell_type": "code",
   "execution_count": 1,
   "id": "34cbfb28-18df-483c-a3e7-324c96665056",
   "metadata": {},
   "outputs": [],
   "source": [
    "import math\n",
    "import numpy as np\n",
    "import seaborn as sns"
   ]
  },
  {
   "cell_type": "code",
   "execution_count": 2,
   "id": "12b00fa0-446a-45f4-b53d-f8bdd5947d1d",
   "metadata": {},
   "outputs": [],
   "source": [
    "# Matriz de pesos - 1ra. capa oculta\n",
    "W1 = np.array([[2.74282070460469,\t24.0582666839381],\n",
    "[-0.517797956984757,\t1.06714653644855],\n",
    "[7.0326083841646,\t4.16462710040493],\n",
    "[-3.29074031986229,\t-6.43108791215705],\n",
    "[-15.1234010695164,\t-6.92795979640552]])"
   ]
  },
  {
   "cell_type": "code",
   "execution_count": 3,
   "id": "47d77214-7bb5-468d-a13b-345c4a9b7829",
   "metadata": {},
   "outputs": [],
   "source": [
    "# Matriz de pesos - 2da. capa oculta\n",
    "W2 = np.array([[0.931192220138197,\t0.39469500486577,\t9.25378915085945],\n",
    "[29.7338497473307,\t-2.47908687253932,\t8.47556782909285],\n",
    "[0.180340012795556,\t0.00886144108426919,\t-18.6735025773955]\n",
    "])"
   ]
  },
  {
   "cell_type": "code",
   "execution_count": 4,
   "id": "267e7d60-47e8-4932-af54-39e954e9ff2f",
   "metadata": {},
   "outputs": [],
   "source": [
    "# Matriz de pesos - capa de salida\n",
    "W3 = np.array([[-0.449403721707344,\t0.380342505545007,\t-1.11300084351741],\n",
    "[1.57185981737933,\t-0.254526310291077,\t0.725174765699713],\n",
    "[-1.22105710359323,\t1.36069158577386,\t0.939418054386482],\n",
    "[0.0489992397870899,\t-0.990569209985976,\t1.01048888258478]\n",
    "])"
   ]
  },
  {
   "cell_type": "code",
   "execution_count": 5,
   "id": "7072799f-e6e4-4a59-898c-d7d6a7c09bd2",
   "metadata": {},
   "outputs": [],
   "source": [
    "def f_act(X):\n",
    "    activada = np.array([1 / (1 + math.exp(-x)) for x in X])\n",
    "    return activada"
   ]
  },
  {
   "cell_type": "markdown",
   "id": "942b11b8-deab-48d2-8174-b0f7c1dfaed0",
   "metadata": {},
   "source": [
    "# Carga de datos"
   ]
  },
  {
   "cell_type": "code",
   "execution_count": 6,
   "id": "4994f82b-52f1-433e-978f-9a918791fa81",
   "metadata": {},
   "outputs": [],
   "source": [
    "iris = sns.load_dataset('iris')"
   ]
  },
  {
   "cell_type": "code",
   "execution_count": 7,
   "id": "ed7049eb-8aab-462e-b7b6-efcc67c6a859",
   "metadata": {},
   "outputs": [
    {
     "data": {
      "text/plain": [
       "array(['setosa', 'versicolor', 'virginica'], dtype=object)"
      ]
     },
     "execution_count": 7,
     "metadata": {},
     "output_type": "execute_result"
    }
   ],
   "source": [
    "xcols = ['sepal_length', 'sepal_width', 'petal_length', 'petal_width']\n",
    "especie = iris['species'].unique()\n",
    "especie"
   ]
  },
  {
   "cell_type": "code",
   "execution_count": 8,
   "id": "f755a87c-08da-4d7d-944f-8603652db91c",
   "metadata": {},
   "outputs": [
    {
     "data": {
      "text/html": [
       "<div>\n",
       "<style scoped>\n",
       "    .dataframe tbody tr th:only-of-type {\n",
       "        vertical-align: middle;\n",
       "    }\n",
       "\n",
       "    .dataframe tbody tr th {\n",
       "        vertical-align: top;\n",
       "    }\n",
       "\n",
       "    .dataframe thead th {\n",
       "        text-align: right;\n",
       "    }\n",
       "</style>\n",
       "<table border=\"1\" class=\"dataframe\">\n",
       "  <thead>\n",
       "    <tr style=\"text-align: right;\">\n",
       "      <th></th>\n",
       "      <th>bias</th>\n",
       "      <th>sepal_length</th>\n",
       "      <th>sepal_width</th>\n",
       "      <th>petal_length</th>\n",
       "      <th>petal_width</th>\n",
       "    </tr>\n",
       "  </thead>\n",
       "  <tbody>\n",
       "    <tr>\n",
       "      <th>0</th>\n",
       "      <td>1</td>\n",
       "      <td>5.1</td>\n",
       "      <td>3.5</td>\n",
       "      <td>1.4</td>\n",
       "      <td>0.2</td>\n",
       "    </tr>\n",
       "    <tr>\n",
       "      <th>1</th>\n",
       "      <td>1</td>\n",
       "      <td>4.9</td>\n",
       "      <td>3.0</td>\n",
       "      <td>1.4</td>\n",
       "      <td>0.2</td>\n",
       "    </tr>\n",
       "    <tr>\n",
       "      <th>2</th>\n",
       "      <td>1</td>\n",
       "      <td>4.7</td>\n",
       "      <td>3.2</td>\n",
       "      <td>1.3</td>\n",
       "      <td>0.2</td>\n",
       "    </tr>\n",
       "    <tr>\n",
       "      <th>3</th>\n",
       "      <td>1</td>\n",
       "      <td>4.6</td>\n",
       "      <td>3.1</td>\n",
       "      <td>1.5</td>\n",
       "      <td>0.2</td>\n",
       "    </tr>\n",
       "    <tr>\n",
       "      <th>4</th>\n",
       "      <td>1</td>\n",
       "      <td>5.0</td>\n",
       "      <td>3.6</td>\n",
       "      <td>1.4</td>\n",
       "      <td>0.2</td>\n",
       "    </tr>\n",
       "  </tbody>\n",
       "</table>\n",
       "</div>"
      ],
      "text/plain": [
       "   bias  sepal_length  sepal_width  petal_length  petal_width\n",
       "0     1           5.1          3.5           1.4          0.2\n",
       "1     1           4.9          3.0           1.4          0.2\n",
       "2     1           4.7          3.2           1.3          0.2\n",
       "3     1           4.6          3.1           1.5          0.2\n",
       "4     1           5.0          3.6           1.4          0.2"
      ]
     },
     "execution_count": 8,
     "metadata": {},
     "output_type": "execute_result"
    }
   ],
   "source": [
    "X = iris[xcols].copy()\n",
    "X.insert(0, 'bias', 1)\n",
    "X.head()"
   ]
  },
  {
   "cell_type": "code",
   "execution_count": 9,
   "id": "7940e98c-eafb-4ff7-8307-1bb5fdb126e0",
   "metadata": {},
   "outputs": [],
   "source": [
    "prediccion = []\n",
    "for index, fila in X.iterrows():\n",
    "    capa1 = f_act(fila.dot(W1))\n",
    "    capa1 = np.insert(capa1, 0, 1)\n",
    "    capa2 = f_act(capa1.dot(W2))\n",
    "    capa2 = np.insert(capa2, 0, 1)\n",
    "    salida = f_act(capa2.dot(W3))\n",
    "    prediccion.append(especie[np.argmax(salida)])"
   ]
  },
  {
   "cell_type": "code",
   "execution_count": 14,
   "id": "cb32c1ea-f34b-474c-bc9b-c632fd345445",
   "metadata": {},
   "outputs": [
    {
     "data": {
      "text/html": [
       "<div>\n",
       "<style scoped>\n",
       "    .dataframe tbody tr th:only-of-type {\n",
       "        vertical-align: middle;\n",
       "    }\n",
       "\n",
       "    .dataframe tbody tr th {\n",
       "        vertical-align: top;\n",
       "    }\n",
       "\n",
       "    .dataframe thead th {\n",
       "        text-align: right;\n",
       "    }\n",
       "</style>\n",
       "<table border=\"1\" class=\"dataframe\">\n",
       "  <thead>\n",
       "    <tr style=\"text-align: right;\">\n",
       "      <th></th>\n",
       "      <th>sepal_length</th>\n",
       "      <th>sepal_width</th>\n",
       "      <th>petal_length</th>\n",
       "      <th>petal_width</th>\n",
       "      <th>species</th>\n",
       "      <th>prediccion</th>\n",
       "    </tr>\n",
       "  </thead>\n",
       "  <tbody>\n",
       "    <tr>\n",
       "      <th>0</th>\n",
       "      <td>5.1</td>\n",
       "      <td>3.5</td>\n",
       "      <td>1.4</td>\n",
       "      <td>0.2</td>\n",
       "      <td>setosa</td>\n",
       "      <td>setosa</td>\n",
       "    </tr>\n",
       "    <tr>\n",
       "      <th>1</th>\n",
       "      <td>4.9</td>\n",
       "      <td>3.0</td>\n",
       "      <td>1.4</td>\n",
       "      <td>0.2</td>\n",
       "      <td>setosa</td>\n",
       "      <td>setosa</td>\n",
       "    </tr>\n",
       "    <tr>\n",
       "      <th>2</th>\n",
       "      <td>4.7</td>\n",
       "      <td>3.2</td>\n",
       "      <td>1.3</td>\n",
       "      <td>0.2</td>\n",
       "      <td>setosa</td>\n",
       "      <td>setosa</td>\n",
       "    </tr>\n",
       "    <tr>\n",
       "      <th>3</th>\n",
       "      <td>4.6</td>\n",
       "      <td>3.1</td>\n",
       "      <td>1.5</td>\n",
       "      <td>0.2</td>\n",
       "      <td>setosa</td>\n",
       "      <td>setosa</td>\n",
       "    </tr>\n",
       "    <tr>\n",
       "      <th>4</th>\n",
       "      <td>5.0</td>\n",
       "      <td>3.6</td>\n",
       "      <td>1.4</td>\n",
       "      <td>0.2</td>\n",
       "      <td>setosa</td>\n",
       "      <td>setosa</td>\n",
       "    </tr>\n",
       "  </tbody>\n",
       "</table>\n",
       "</div>"
      ],
      "text/plain": [
       "   sepal_length  sepal_width  petal_length  petal_width species prediccion\n",
       "0           5.1          3.5           1.4          0.2  setosa     setosa\n",
       "1           4.9          3.0           1.4          0.2  setosa     setosa\n",
       "2           4.7          3.2           1.3          0.2  setosa     setosa\n",
       "3           4.6          3.1           1.5          0.2  setosa     setosa\n",
       "4           5.0          3.6           1.4          0.2  setosa     setosa"
      ]
     },
     "execution_count": 14,
     "metadata": {},
     "output_type": "execute_result"
    }
   ],
   "source": [
    "iris['prediccion'] = prediccion\n",
    "iris.head()"
   ]
  },
  {
   "cell_type": "markdown",
   "id": "d66a0b11-9616-43f0-93a4-be664be30f57",
   "metadata": {},
   "source": [
    "# Predicciones erroneas"
   ]
  },
  {
   "cell_type": "code",
   "execution_count": 12,
   "id": "e27478d8-b7d3-43b1-9440-add281ed60ce",
   "metadata": {},
   "outputs": [
    {
     "data": {
      "text/html": [
       "<div>\n",
       "<style scoped>\n",
       "    .dataframe tbody tr th:only-of-type {\n",
       "        vertical-align: middle;\n",
       "    }\n",
       "\n",
       "    .dataframe tbody tr th {\n",
       "        vertical-align: top;\n",
       "    }\n",
       "\n",
       "    .dataframe thead th {\n",
       "        text-align: right;\n",
       "    }\n",
       "</style>\n",
       "<table border=\"1\" class=\"dataframe\">\n",
       "  <thead>\n",
       "    <tr style=\"text-align: right;\">\n",
       "      <th></th>\n",
       "      <th>sepal_length</th>\n",
       "      <th>sepal_width</th>\n",
       "      <th>petal_length</th>\n",
       "      <th>petal_width</th>\n",
       "      <th>species</th>\n",
       "      <th>prediccion</th>\n",
       "    </tr>\n",
       "  </thead>\n",
       "  <tbody>\n",
       "    <tr>\n",
       "      <th>72</th>\n",
       "      <td>6.3</td>\n",
       "      <td>2.5</td>\n",
       "      <td>4.9</td>\n",
       "      <td>1.5</td>\n",
       "      <td>versicolor</td>\n",
       "      <td>virginica</td>\n",
       "    </tr>\n",
       "    <tr>\n",
       "      <th>77</th>\n",
       "      <td>6.7</td>\n",
       "      <td>3.0</td>\n",
       "      <td>5.0</td>\n",
       "      <td>1.7</td>\n",
       "      <td>versicolor</td>\n",
       "      <td>virginica</td>\n",
       "    </tr>\n",
       "    <tr>\n",
       "      <th>83</th>\n",
       "      <td>6.0</td>\n",
       "      <td>2.7</td>\n",
       "      <td>5.1</td>\n",
       "      <td>1.6</td>\n",
       "      <td>versicolor</td>\n",
       "      <td>virginica</td>\n",
       "    </tr>\n",
       "  </tbody>\n",
       "</table>\n",
       "</div>"
      ],
      "text/plain": [
       "    sepal_length  sepal_width  petal_length  petal_width     species  \\\n",
       "72           6.3          2.5           4.9          1.5  versicolor   \n",
       "77           6.7          3.0           5.0          1.7  versicolor   \n",
       "83           6.0          2.7           5.1          1.6  versicolor   \n",
       "\n",
       "   prediccion  \n",
       "72  virginica  \n",
       "77  virginica  \n",
       "83  virginica  "
      ]
     },
     "execution_count": 12,
     "metadata": {},
     "output_type": "execute_result"
    }
   ],
   "source": [
    "errores = iris[iris['species'] != iris['prediccion']]\n",
    "errores"
   ]
  },
  {
   "cell_type": "code",
   "execution_count": 15,
   "id": "fa43cfc9-0cd4-4082-83a7-9af71c0c7b9b",
   "metadata": {},
   "outputs": [
    {
     "data": {
      "text/plain": [
       "98.0"
      ]
     },
     "execution_count": 15,
     "metadata": {},
     "output_type": "execute_result"
    }
   ],
   "source": [
    "eficiencia = (1 - len(errores)/len(iris)) * 100\n",
    "eficiencia"
   ]
  },
  {
   "cell_type": "code",
   "execution_count": null,
   "id": "ca3bca33-4765-4a0f-ae63-4f9d331265af",
   "metadata": {},
   "outputs": [],
   "source": []
  }
 ],
 "metadata": {
  "kernelspec": {
   "display_name": "Python 3 (ipykernel)",
   "language": "python",
   "name": "python3"
  },
  "language_info": {
   "codemirror_mode": {
    "name": "ipython",
    "version": 3
   },
   "file_extension": ".py",
   "mimetype": "text/x-python",
   "name": "python",
   "nbconvert_exporter": "python",
   "pygments_lexer": "ipython3",
   "version": "3.13.2"
  }
 },
 "nbformat": 4,
 "nbformat_minor": 5
}
