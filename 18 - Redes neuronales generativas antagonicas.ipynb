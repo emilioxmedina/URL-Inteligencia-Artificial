{
 "cells": [
  {
   "cell_type": "code",
   "execution_count": 1,
   "metadata": {
    "executionInfo": {
     "elapsed": 4658,
     "status": "ok",
     "timestamp": 1745420687860,
     "user": {
      "displayName": "Jesús Quemé",
      "userId": "05946946032980748684"
     },
     "user_tz": 360
    },
    "id": "4fSvEP64B-PJ"
   },
   "outputs": [],
   "source": [
    "# Requisitos\n",
    "import tensorflow as tf\n",
    "import tensorflow.keras.layers as layers\n",
    "from tensorflow.keras.models import Sequential\n",
    "from tensorflow.keras.optimizers import Adam\n",
    "from tensorflow.keras.layers import Flatten, Dense, LeakyReLU\n",
    "import numpy as np\n",
    "import matplotlib.pyplot as plt\n",
    "import numpy as np\n",
    "import matplotlib.pyplot as plt\n",
    "import numpy as np\n",
    "import matplotlib.pyplot as plt\n",
    "import numpy as np\n",
    "import matplotlib.pyplot as plt"
   ]
  },
  {
   "cell_type": "code",
   "execution_count": 2,
   "metadata": {
    "colab": {
     "base_uri": "https://localhost:8080/"
    },
    "executionInfo": {
     "elapsed": 868,
     "status": "ok",
     "timestamp": 1745420905538,
     "user": {
      "displayName": "Jesús Quemé",
      "userId": "05946946032980748684"
     },
     "user_tz": 360
    },
    "id": "pRJeMjQkLihP",
    "outputId": "be5fa97a-852e-4574-e9fd-330859d8b8e8"
   },
   "outputs": [],
   "source": [
    "#Cargar el dataset\n",
    "(X_train, _), (_,_) = tf.keras.datasets.mnist.load_data()\n",
    "X_train = X_train/255.0\n",
    "X_train = X_train.reshape(-1,28,28,1).astype('float32')"
   ]
  },
  {
   "cell_type": "code",
   "execution_count": 3,
   "metadata": {
    "executionInfo": {
     "elapsed": 25,
     "status": "ok",
     "timestamp": 1745421248156,
     "user": {
      "displayName": "Jesús Quemé",
      "userId": "05946946032980748684"
     },
     "user_tz": 360
    },
    "id": "8AhQIP6WMbKt"
   },
   "outputs": [],
   "source": [
    "#tamaño selespacio latente, ruido de entrada para el generador\n",
    "latent_dim = 100"
   ]
  },
  {
   "cell_type": "code",
   "execution_count": 4,
   "metadata": {
    "executionInfo": {
     "elapsed": 25,
     "status": "ok",
     "timestamp": 1745421799438,
     "user": {
      "displayName": "Jesús Quemé",
      "userId": "05946946032980748684"
     },
     "user_tz": 360
    },
    "id": "MByCmQ08NrP0"
   },
   "outputs": [],
   "source": [
    "# crear generador\n",
    "def bull_generator():\n",
    "  model = Sequential([Dense( 256, input_dim=latent_dim),LeakyReLU(negative_slope = 0.2),BatchNormalization(), Dense(512),LeakyReLU(negative_slope=0.2),BatchNormalization(), Dense(1024), LeakyReLU(negative_slope= 0.2),BatchNormalization(), Dense(28*28*1, activation='tanh'), Reshape((28,28,1))])\n",
    "  return model\n",
    "  #model.add(layers.Dense(7*7*256, input_dim=latent_dim))\n",
    "  #model.add"
   ]
  },
  {
   "cell_type": "code",
   "execution_count": 5,
   "metadata": {
    "executionInfo": {
     "elapsed": 30,
     "status": "ok",
     "timestamp": 1745422225452,
     "user": {
      "displayName": "Jesús Quemé",
      "userId": "05946946032980748684"
     },
     "user_tz": 360
    },
    "id": "1ploNHWPPyNw"
   },
   "outputs": [],
   "source": [
    "# Crear el discriminador\n",
    "def build_discriminator():\n",
    "    model = Sequential([Flatten(input_shape=(28,28,1)), Dense(512), LeakyReLU(negative_slope=0.2), Dense(1, activation='sigmoid')])\n",
    "    return model"
   ]
  },
  {
   "cell_type": "code",
   "execution_count": 6,
   "metadata": {
    "colab": {
     "base_uri": "https://localhost:8080/",
     "height": 280
    },
    "executionInfo": {
     "elapsed": 360,
     "status": "error",
     "timestamp": 1745422397076,
     "user": {
      "displayName": "Jesús Quemé",
      "userId": "05946946032980748684"
     },
     "user_tz": 360
    },
    "id": "CH8Htn3QQgjy",
    "outputId": "46467850-60e9-437b-c861-3b06f373c10b"
   },
   "outputs": [
    {
     "name": "stderr",
     "output_type": "stream",
     "text": [
      "C:\\Users\\medin\\mp-env\\lib\\site-packages\\keras\\src\\layers\\reshaping\\flatten.py:37: UserWarning: Do not pass an `input_shape`/`input_dim` argument to a layer. When using Sequential models, prefer using an `Input(shape)` object as the first layer in the model instead.\n",
      "  super().__init__(**kwargs)\n"
     ]
    }
   ],
   "source": [
    "# Configurarel modelo\n",
    "discriminador = build_discriminator()\n",
    "discriminador.compile(loss='binary_crossentropy', optimizer=Adam(learning_rate=0.0002,beta_1=0.5), metrics=['accuracy'])"
   ]
  },
  {
   "cell_type": "code",
   "execution_count": 7,
   "metadata": {
    "id": "tm15AOwXSSdN"
   },
   "outputs": [
    {
     "name": "stderr",
     "output_type": "stream",
     "text": [
      "C:\\Users\\medin\\mp-env\\lib\\site-packages\\keras\\src\\layers\\core\\dense.py:87: UserWarning: Do not pass an `input_shape`/`input_dim` argument to a layer. When using Sequential models, prefer using an `Input(shape)` object as the first layer in the model instead.\n",
      "  super().__init__(activity_regularizer=activity_regularizer, **kwargs)\n"
     ]
    },
    {
     "ename": "NameError",
     "evalue": "name 'BatchNormalization' is not defined",
     "output_type": "error",
     "traceback": [
      "\u001b[1;31m---------------------------------------------------------------------------\u001b[0m",
      "\u001b[1;31mNameError\u001b[0m                                 Traceback (most recent call last)",
      "Cell \u001b[1;32mIn[7], line 2\u001b[0m\n\u001b[0;32m      1\u001b[0m \u001b[38;5;66;03m#Configurar el generador\u001b[39;00m\n\u001b[1;32m----> 2\u001b[0m generador \u001b[38;5;241m=\u001b[39m \u001b[43mbull_generator\u001b[49m\u001b[43m(\u001b[49m\u001b[43m)\u001b[49m\n\u001b[0;32m      3\u001b[0m generador\u001b[38;5;241m.\u001b[39mcompile(loss\u001b[38;5;241m=\u001b[39m\u001b[38;5;124m'\u001b[39m\u001b[38;5;124mbinary_crossentropy\u001b[39m\u001b[38;5;124m'\u001b[39m, optimizer\u001b[38;5;241m=\u001b[39mAdam(learning_rate\u001b[38;5;241m=\u001b[39m\u001b[38;5;241m0.0002\u001b[39m, beta_1\u001b[38;5;241m=\u001b[39m\u001b[38;5;241m0.5\u001b[39m))\n",
      "Cell \u001b[1;32mIn[4], line 3\u001b[0m, in \u001b[0;36mbull_generator\u001b[1;34m()\u001b[0m\n\u001b[0;32m      2\u001b[0m \u001b[38;5;28;01mdef\u001b[39;00m\u001b[38;5;250m \u001b[39m\u001b[38;5;21mbull_generator\u001b[39m():\n\u001b[1;32m----> 3\u001b[0m   model \u001b[38;5;241m=\u001b[39m Sequential([Dense( \u001b[38;5;241m256\u001b[39m, input_dim\u001b[38;5;241m=\u001b[39mlatent_dim),LeakyReLU(negative_slope \u001b[38;5;241m=\u001b[39m \u001b[38;5;241m0.2\u001b[39m),\u001b[43mBatchNormalization\u001b[49m(), Dense(\u001b[38;5;241m512\u001b[39m),LeakyReLU(negative_slope\u001b[38;5;241m=\u001b[39m\u001b[38;5;241m0.2\u001b[39m),BatchNormalization(), Dense(\u001b[38;5;241m1024\u001b[39m), LeakyReLU(negative_slope\u001b[38;5;241m=\u001b[39m \u001b[38;5;241m0.2\u001b[39m),BatchNormalization(), Dense(\u001b[38;5;241m28\u001b[39m\u001b[38;5;241m*\u001b[39m\u001b[38;5;241m28\u001b[39m\u001b[38;5;241m*\u001b[39m\u001b[38;5;241m1\u001b[39m, activation\u001b[38;5;241m=\u001b[39m\u001b[38;5;124m'\u001b[39m\u001b[38;5;124mtanh\u001b[39m\u001b[38;5;124m'\u001b[39m), Reshape((\u001b[38;5;241m28\u001b[39m,\u001b[38;5;241m28\u001b[39m,\u001b[38;5;241m1\u001b[39m))])\n\u001b[0;32m      4\u001b[0m   \u001b[38;5;28;01mreturn\u001b[39;00m model\n",
      "\u001b[1;31mNameError\u001b[0m: name 'BatchNormalization' is not defined"
     ]
    }
   ],
   "source": [
    "#Configurar el generador\n",
    "generador = bull_generator()\n",
    "generador.compile(loss='binary_crossentropy', optimizer=Adam(learning_rate=0.0002, beta_1=0.5))"
   ]
  },
  {
   "cell_type": "code",
   "execution_count": null,
   "metadata": {
    "colab": {
     "base_uri": "https://localhost:8080/",
     "height": 211
    },
    "executionInfo": {
     "elapsed": 46,
     "status": "error",
     "timestamp": 1745422984152,
     "user": {
      "displayName": "Jesús Quemé",
      "userId": "05946946032980748684"
     },
     "user_tz": 360
    },
    "id": "7DdwYvLbTLFO",
    "outputId": "7f1d69f0-5a05-41f4-9cc7-470921b660ae"
   },
   "outputs": [],
   "source": [
    "#Crear la Gan\n",
    "gan_input = tf.keras.Input(shape=(latent_dim,))\n",
    "gan_output = discriminador(generador(gan_input))\n",
    "gan = tf.keras.Model(gan_input, gan_output)\n",
    "discriminador.trainable = False"
   ]
  },
  {
   "cell_type": "code",
   "execution_count": null,
   "metadata": {
    "id": "7-PJVxiNUUyU"
   },
   "outputs": [],
   "source": [
    "# Compile gan\n",
    "gan.compile(loss='binary_crossentropy', optimizer=Adam(learning_rate=0.0002, beta_1=0.5))"
   ]
  },
  {
   "cell_type": "code",
   "execution_count": null,
   "metadata": {},
   "outputs": [],
   "source": [
    "# Funcion para entrenar la GAN\n",
    "def train_gan(epochs=10000, batch_size=128):\n",
    "    batch_count = X_train.shape[0]\n",
    "    \n",
    "    for epoch in range(epochs):\n",
    "        for _ in range(batch_count):\n",
    "            # Entrenar el discriminador\n",
    "            noise = np.random.normal(0,1,size=(batch_size, latent_dim))\n",
    "            generated_images = generador.predict(noise)\n",
    "            real_images = X_train[np.random.randint(0, X_train.shape[0],batch_size)]\n",
    "\n",
    "            X = np.concatenate([real_images, generated_images])\n",
    "            y = np.concatenate([np.ones((batch_size,1))], [np.zeros((batch_size,1))])\n",
    "\n",
    "            d_loss = discriminator.train_on_batch(X,y)\n",
    "\n",
    "            # Entrenar el generador por medio de la GAN\n",
    "            g_loss = gan.train_on_batch(noise, np.ones((batch_size,1)))\n",
    "\n",
    "        if epoch % 1000 == 0:\n",
    "            print(f'Epoch: {epoch}, Pérdida Discriminador: {d_loss[0]}, Pérdida Generador: {g_loss}')\n",
    "            generate_and_save_images(generador, epoch)"
   ]
  },
  {
   "cell_type": "code",
   "execution_count": null,
   "metadata": {},
   "outputs": [],
   "source": [
    "# Funcion para generar y guardar imagenes\n",
    "def generate_and_save_images(model, epoch, ejemplos=16, dim=(4,4), figsize=(10,10)):\n",
    "    noise = np.random.normal(0,1,size=(ejemplos, latent_dim))\n",
    "    generated_images = model.predict(noise)\n",
    "    generated_images = generated_images.reshape(ejemplos, 28, 28)\n",
    "\n",
    "    plt.figure(figsize=figsize)\n",
    "    for i in range(generated_images.shape[0]):\n",
    "        plt.subplot(dim[0], dim[1], i+1)\n",
    "        plt.imshow(generated_images[i], interpolation='nearest', cmap='gray_r')\n",
    "        plt.axis('off')\n",
    "    plt.tight_layout()\n",
    "    plt.savefig(f'gan_generated_image_epoch_{epoch}.png')\n",
    "    plt.show()"
   ]
  }
 ],
 "metadata": {
  "colab": {
   "authorship_tag": "ABX9TyPQMLNogAXvEDCMtAVzqQvo",
   "provenance": []
  },
  "kernelspec": {
   "display_name": "Python 3.10 (mp-env)",
   "language": "python",
   "name": "mp-env"
  },
  "language_info": {
   "codemirror_mode": {
    "name": "ipython",
    "version": 3
   },
   "file_extension": ".py",
   "mimetype": "text/x-python",
   "name": "python",
   "nbconvert_exporter": "python",
   "pygments_lexer": "ipython3",
   "version": "3.10.0"
  }
 },
 "nbformat": 4,
 "nbformat_minor": 4
}
