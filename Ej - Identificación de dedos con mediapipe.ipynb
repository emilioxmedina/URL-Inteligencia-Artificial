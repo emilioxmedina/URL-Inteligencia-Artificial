{
 "cells": [
  {
   "cell_type": "code",
   "execution_count": 1,
   "id": "bb2fa206-b0d8-492e-a263-5c69a766860d",
   "metadata": {},
   "outputs": [],
   "source": [
    "import cv2\n",
    "import mediapipe as mp\n",
    "import math"
   ]
  },
  {
   "cell_type": "code",
   "execution_count": 2,
   "id": "b685e0d9-ac77-45bf-b7ff-268159b784db",
   "metadata": {},
   "outputs": [],
   "source": [
    "mp_drawing = mp.solutions.drawing_utils\n",
    "mp_hands = mp.solutions.hands"
   ]
  },
  {
   "cell_type": "code",
   "execution_count": 3,
   "id": "884a71a1-30f9-41f7-acef-de2065b4ef27",
   "metadata": {},
   "outputs": [],
   "source": [
    "def distancia (p1, p2):\n",
    "    return math.sqrt((p2.x - p1.x)**2 + (p2.y - p1.y)**2)"
   ]
  },
  {
   "cell_type": "code",
   "execution_count": null,
   "id": "84b05208-d202-4ef0-b0da-acf2b5a58321",
   "metadata": {},
   "outputs": [],
   "source": [
    "# Funcion para determinar si un dedo esta levantado\n",
    "def dedo_levantado(landmarks, dedo_tip, dedo_dip, dedo_pip, dedo_mcp, umbral=0.1):\n",
    "    # Comparar la posicion \"y\" del punto a la punta con los puntos anteriores\n",
    "    return (landmarks[dedo_tip].y < landmarks[dedo_dip].y and landmarks[dedo_dip].y < landmarks0[dedo_pip].y and landmarks[dedo_pip].y < landmarks[dedo_mcp].y)"
   ]
  }
 ],
 "metadata": {
  "kernelspec": {
   "display_name": "Python 3.10 (mp-env)",
   "language": "python",
   "name": "mp-env"
  },
  "language_info": {
   "codemirror_mode": {
    "name": "ipython",
    "version": 3
   },
   "file_extension": ".py",
   "mimetype": "text/x-python",
   "name": "python",
   "nbconvert_exporter": "python",
   "pygments_lexer": "ipython3",
   "version": "3.10.0"
  }
 },
 "nbformat": 4,
 "nbformat_minor": 5
}
