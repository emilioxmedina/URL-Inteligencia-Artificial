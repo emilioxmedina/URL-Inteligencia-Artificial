{
 "cells": [
  {
   "cell_type": "code",
   "execution_count": 1,
   "id": "bb2fa206-b0d8-492e-a263-5c69a766860d",
   "metadata": {},
   "outputs": [],
   "source": [
    "import cv2\n",
    "import mediapipe as mp\n",
    "import math"
   ]
  },
  {
   "cell_type": "code",
   "execution_count": 2,
   "id": "b685e0d9-ac77-45bf-b7ff-268159b784db",
   "metadata": {},
   "outputs": [],
   "source": [
    "mp_drawing = mp.solutions.drawing_utils\n",
    "mp_hands = mp.solutions.hands"
   ]
  },
  {
   "cell_type": "code",
   "execution_count": 3,
   "id": "884a71a1-30f9-41f7-acef-de2065b4ef27",
   "metadata": {},
   "outputs": [],
   "source": [
    "def distancia (p1, p2):\n",
    "    return math.sqrt((p2.x - p1.x)**2 + (p2.y - p1.y)**2 + (p2.z - p1.z)**2)"
   ]
  },
  {
   "cell_type": "code",
   "execution_count": 4,
   "id": "84b05208-d202-4ef0-b0da-acf2b5a58321",
   "metadata": {},
   "outputs": [],
   "source": [
    "# Funcion para determinar si un dedo esta levantado\n",
    "def dedo_levantado(landmarks, dedo_tip, dedo_dip, dedo_pip, dedo_mcp, umbral=0.1):\n",
    "    # Comparar la posicion \"y\" del punto a la punta con los puntos anteriores\n",
    "    return (landmarks[dedo_tip].y < landmarks[dedo_dip].y and landmarks[dedo_dip].y < landmarks0[dedo_pip].y and landmarks[dedo_pip].y < landmarks[dedo_mcp].y)"
   ]
  },
  {
   "cell_type": "code",
   "execution_count": 5,
   "id": "0f868d0e-69e1-461d-b988-13fb6b4cd800",
   "metadata": {},
   "outputs": [],
   "source": [
    "# Configurar la captura de la webcam\n",
    "cap = cv2.VideoCapture(0) # 0 para la camara predeterminada"
   ]
  },
  {
   "cell_type": "code",
   "execution_count": null,
   "id": "5bf16227-5809-40ac-8e08-f12e53f93826",
   "metadata": {},
   "outputs": [],
   "source": [
    "with mp_hands.Hands(\n",
    "    static_image_mode = True,\n",
    "    max_num_hands = 2,\n",
    "    min_detection_confidence = 0.5\n",
    "    min_tracking_confidence = 0.5) as hands:\n",
    "\n",
    "    while cap.isOpened():\n",
    "        success, image = cap.read()\n",
    "        if not success:\n",
    "            print(\"No se pudo capturar la imagen\")\n",
    "            continue\n",
    "    \n",
    "    # image = cv2.imread(ruta)\n",
    "    # height, width, _ = image.shape\n",
    "    image = cv2.flip(image,1)\n",
    "    image_rgb = cv2.cvtColor(image, cv2.COLOR_BGR2RGB)\n",
    "    results = hands.process(image_rgb)\n",
    "\n",
    "    print('Handedness', results.multi_handedness)\n",
    "\n",
    "    if results.multi_hand_landmarks:\n",
    "        for hands_landmarks in results.multi_hand_landmarks:\n",
    "            # Dibujar las marcas y conexiones\n",
    "            mp_drawing.draw_landmarks(image, hands_landmarks, mp_hands.HAND_CONNECTIONS)\n",
    "            # Obtener las marcas como una lista\n",
    "            landmarks = hands_landmarks.landmark\n",
    "\n",
    "            #definir los indices de los puntos de los dedos (segun mediapipe)\n",
    "            PULGAR_TIP = 4\n",
    "            INDICE_TIP = 8\n",
    "            MEDIO_TIP = 12\n",
    "            ANULAR_TIP =16\n",
    "            MENIQUE_TIP = 20\n",
    "\n",
    "            # PUNTOS PARA CADA DEDO (tip, dip, pip, mcp)\n",
    "            dedos = {\n",
    "                'Pulgar':(PULGAR_TIP, 2,1,0),\n",
    "                'Indice':(INDICE_TIP, 6,5,0),\n",
    "                'Medio': (MEDIO_TIP, 10, 9, 0),\n",
    "                'Anular': (ANULAR_TIP, 14, 13,0),\n",
    "                'Menique': (MENIQUE_TIP, 18,17,0)\n",
    "            }\n",
    "\n",
    "            # Verificar que dedos estan levantados\n",
    "            dedos_levantados = []\n",
    "            for nombre,(tip,dip, pip, mcp) in dedos.items():\n",
    "                if dedo_levantado(landmarks, tip, dip, pip, mcp):\n",
    "                    dedos_levantados.append(nombre)\n",
    "\n",
    "            # print('Dedos levantados:', dedos_levantados)\n",
    "\n",
    "            # Mostrar los dedos levantados en la imagen\n",
    "            cv2.putText(image, f'Dedos: {\", \".join(dedos_levantados)}', (10, 30), cv2.FONT_HERSHEY_SIMPLEX, 1, (0, 255, 0), 2)\n",
    "    #MOSTRAR LA IMAGEN RESULTANTE\n",
    "    # image = cv2.resize(image, (1000, 800))  # Ajusta a un tamaño más pequeño\n",
    "    cv2.imshow('Imagen', image)\n",
    "    # cv2.waitKey(0)\n",
    "    #cv2.destroyAllWindows()\n",
    "    if cv2.waitKey(5) & 0xFF == ord('q'):\n",
    "        break\n",
    "\n",
    "    # Liberar recursos\n",
    "    cap.release()\n",
    "    cv2.destroyAllWindows()"
   ]
  }
 ],
 "metadata": {
  "kernelspec": {
   "display_name": "Python 3.10 (mp-env)",
   "language": "python",
   "name": "mp-env"
  },
  "language_info": {
   "codemirror_mode": {
    "name": "ipython",
    "version": 3
   },
   "file_extension": ".py",
   "mimetype": "text/x-python",
   "name": "python",
   "nbconvert_exporter": "python",
   "pygments_lexer": "ipython3",
   "version": "3.10.0"
  }
 },
 "nbformat": 4,
 "nbformat_minor": 5
}
