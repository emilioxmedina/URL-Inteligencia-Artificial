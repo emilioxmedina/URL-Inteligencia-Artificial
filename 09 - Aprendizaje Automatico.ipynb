{
 "cells": [
  {
   "cell_type": "code",
   "execution_count": 1,
   "id": "ef801bb2-5794-4fa1-ac1d-67681d088cd5",
   "metadata": {},
   "outputs": [],
   "source": [
    "# Importar bibliotecas\n",
    "import pandas as pd\n",
    "import numpy as np\n",
    "import seaborn as sns\n",
    "import matplotlib.pyplot as plt"
   ]
  },
  {
   "cell_type": "code",
   "execution_count": 2,
   "id": "49087e73-4518-4c81-bc2f-0c4c046120a5",
   "metadata": {},
   "outputs": [],
   "source": [
    "from sklearn.model_selection import train_test_split\n",
    "from sklearn.naive_bayes import GaussianNB\n",
    "from sklearn import metrics"
   ]
  },
  {
   "cell_type": "code",
   "execution_count": 3,
   "id": "d36c3359-5838-4aac-af3b-4fbe846eb1d2",
   "metadata": {},
   "outputs": [],
   "source": [
    "# Cargar el dataset\n",
    "data = sns.load_dataset('iris')\n",
    "# separacion de datos en entrenamiento-prueba\n",
    "train, test = train_test_split(data, test_size = 0.4, stratify = data['species'], random_state = 19)"
   ]
  },
  {
   "cell_type": "code",
   "execution_count": null,
   "id": "6cf709e7-505a-4b08-9af3-a16c6f47d069",
   "metadata": {},
   "outputs": [],
   "source": [
    "# Separacion de la etiqueta de clase <<Y>> y atributos<<X>>\n",
    "# Conjunto de entrenamiento\n",
    "x_train = train[['sepal_length', 'sepal_width', 'petal_length', 'petal_width']]\n",
    "y_train = train['species']\n",
    "# Conjunto de pruebas\n",
    "x_test = test[['sepal_length', 'sepal_width', 'petal_length', 'petal_width']]\n",
    "y_test = test['species']"
   ]
  }
 ],
 "metadata": {
  "kernelspec": {
   "display_name": "Python 3 (ipykernel)",
   "language": "python",
   "name": "python3"
  },
  "language_info": {
   "codemirror_mode": {
    "name": "ipython",
    "version": 3
   },
   "file_extension": ".py",
   "mimetype": "text/x-python",
   "name": "python",
   "nbconvert_exporter": "python",
   "pygments_lexer": "ipython3",
   "version": "3.13.2"
  }
 },
 "nbformat": 4,
 "nbformat_minor": 5
}
